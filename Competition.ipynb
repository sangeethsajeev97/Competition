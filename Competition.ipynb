{
 "cells": [
  {
   "cell_type": "code",
   "execution_count": 70,
   "id": "1fb40a66",
   "metadata": {},
   "outputs": [],
   "source": [
    "import numpy as np\n",
    "import pandas as pd\n",
    "import seaborn as sns\n",
    "import matplotlib.pyplot as plt"
   ]
  },
  {
   "cell_type": "markdown",
   "id": "22ee0c25",
   "metadata": {},
   "source": [
    "# reading the dataset"
   ]
  },
  {
   "cell_type": "code",
   "execution_count": 71,
   "id": "b4d35b4e",
   "metadata": {},
   "outputs": [
    {
     "data": {
      "text/html": [
       "<div>\n",
       "<style scoped>\n",
       "    .dataframe tbody tr th:only-of-type {\n",
       "        vertical-align: middle;\n",
       "    }\n",
       "\n",
       "    .dataframe tbody tr th {\n",
       "        vertical-align: top;\n",
       "    }\n",
       "\n",
       "    .dataframe thead th {\n",
       "        text-align: right;\n",
       "    }\n",
       "</style>\n",
       "<table border=\"1\" class=\"dataframe\">\n",
       "  <thead>\n",
       "    <tr style=\"text-align: right;\">\n",
       "      <th></th>\n",
       "      <th>mark</th>\n",
       "      <th>model</th>\n",
       "      <th>generation_name</th>\n",
       "      <th>year</th>\n",
       "      <th>mileage</th>\n",
       "      <th>vol_engine</th>\n",
       "      <th>fuel</th>\n",
       "      <th>city</th>\n",
       "      <th>province</th>\n",
       "      <th>price</th>\n",
       "    </tr>\n",
       "  </thead>\n",
       "  <tbody>\n",
       "    <tr>\n",
       "      <th>0</th>\n",
       "      <td>opel</td>\n",
       "      <td>combo</td>\n",
       "      <td>gen-d-2011</td>\n",
       "      <td>2015</td>\n",
       "      <td>139568.0</td>\n",
       "      <td>1248</td>\n",
       "      <td>Diesel</td>\n",
       "      <td>Janki</td>\n",
       "      <td>Mazowieckie</td>\n",
       "      <td>35900.0</td>\n",
       "    </tr>\n",
       "    <tr>\n",
       "      <th>1</th>\n",
       "      <td>opel</td>\n",
       "      <td>combo</td>\n",
       "      <td>gen-d-2011</td>\n",
       "      <td>2018</td>\n",
       "      <td>31991.0</td>\n",
       "      <td>1499</td>\n",
       "      <td>Diesel</td>\n",
       "      <td>Katowice</td>\n",
       "      <td>Śląskie</td>\n",
       "      <td>78501.0</td>\n",
       "    </tr>\n",
       "    <tr>\n",
       "      <th>2</th>\n",
       "      <td>opel</td>\n",
       "      <td>combo</td>\n",
       "      <td>gen-d-2011</td>\n",
       "      <td>2015</td>\n",
       "      <td>278437.0</td>\n",
       "      <td>1598</td>\n",
       "      <td>Diesel</td>\n",
       "      <td>Brzeg</td>\n",
       "      <td>Opolskie</td>\n",
       "      <td>27000.0</td>\n",
       "    </tr>\n",
       "    <tr>\n",
       "      <th>3</th>\n",
       "      <td>opel</td>\n",
       "      <td>combo</td>\n",
       "      <td>gen-d-2011</td>\n",
       "      <td>2016</td>\n",
       "      <td>47600.0</td>\n",
       "      <td>1248</td>\n",
       "      <td>Diesel</td>\n",
       "      <td>Korfantów</td>\n",
       "      <td>Opolskie</td>\n",
       "      <td>30800.0</td>\n",
       "    </tr>\n",
       "    <tr>\n",
       "      <th>4</th>\n",
       "      <td>opel</td>\n",
       "      <td>combo</td>\n",
       "      <td>gen-d-2011</td>\n",
       "      <td>2014</td>\n",
       "      <td>103000.0</td>\n",
       "      <td>1400</td>\n",
       "      <td>CNG</td>\n",
       "      <td>Tarnowskie Góry</td>\n",
       "      <td>Śląskie</td>\n",
       "      <td>35900.0</td>\n",
       "    </tr>\n",
       "  </tbody>\n",
       "</table>\n",
       "</div>"
      ],
      "text/plain": [
       "   mark  model generation_name  year   mileage  vol_engine    fuel  \\\n",
       "0  opel  combo      gen-d-2011  2015  139568.0        1248  Diesel   \n",
       "1  opel  combo      gen-d-2011  2018   31991.0        1499  Diesel   \n",
       "2  opel  combo      gen-d-2011  2015  278437.0        1598  Diesel   \n",
       "3  opel  combo      gen-d-2011  2016   47600.0        1248  Diesel   \n",
       "4  opel  combo      gen-d-2011  2014  103000.0        1400     CNG   \n",
       "\n",
       "              city     province    price  \n",
       "0            Janki  Mazowieckie  35900.0  \n",
       "1         Katowice      Śląskie  78501.0  \n",
       "2            Brzeg     Opolskie  27000.0  \n",
       "3        Korfantów     Opolskie  30800.0  \n",
       "4  Tarnowskie Góry      Śląskie  35900.0  "
      ]
     },
     "execution_count": 71,
     "metadata": {},
     "output_type": "execute_result"
    }
   ],
   "source": [
    "df=pd.read_csv(r'E:\\DATA SCIENCE\\CODES and DOCS\\DOCS\\Car_Prices_Poland_Kaggle_org1.csv')\n",
    "df.head()"
   ]
  },
  {
   "cell_type": "code",
   "execution_count": 72,
   "id": "9d7c2d1a",
   "metadata": {},
   "outputs": [
    {
     "data": {
      "text/plain": [
       "(3216, 10)"
      ]
     },
     "execution_count": 72,
     "metadata": {},
     "output_type": "execute_result"
    }
   ],
   "source": [
    "df.shape"
   ]
  },
  {
   "cell_type": "code",
   "execution_count": 73,
   "id": "3c8d356b",
   "metadata": {},
   "outputs": [
    {
     "data": {
      "text/plain": [
       "Index(['mark', 'model', 'generation_name', 'year', 'mileage', 'vol_engine',\n",
       "       'fuel', 'city', 'province', 'price'],\n",
       "      dtype='object')"
      ]
     },
     "execution_count": 73,
     "metadata": {},
     "output_type": "execute_result"
    }
   ],
   "source": [
    "df.columns"
   ]
  },
  {
   "cell_type": "code",
   "execution_count": 74,
   "id": "63f544f6",
   "metadata": {},
   "outputs": [
    {
     "name": "stdout",
     "output_type": "stream",
     "text": [
      "<class 'pandas.core.frame.DataFrame'>\n",
      "RangeIndex: 3216 entries, 0 to 3215\n",
      "Data columns (total 10 columns):\n",
      " #   Column           Non-Null Count  Dtype  \n",
      "---  ------           --------------  -----  \n",
      " 0   mark             3216 non-null   object \n",
      " 1   model            3216 non-null   object \n",
      " 2   generation_name  2950 non-null   object \n",
      " 3   year             3216 non-null   int64  \n",
      " 4   mileage          3198 non-null   float64\n",
      " 5   vol_engine       3216 non-null   int64  \n",
      " 6   fuel             3216 non-null   object \n",
      " 7   city             3216 non-null   object \n",
      " 8   province         3216 non-null   object \n",
      " 9   price            3199 non-null   float64\n",
      "dtypes: float64(2), int64(2), object(6)\n",
      "memory usage: 251.4+ KB\n"
     ]
    }
   ],
   "source": [
    "df.info()"
   ]
  },
  {
   "cell_type": "code",
   "execution_count": 75,
   "id": "9fd338e8",
   "metadata": {},
   "outputs": [
    {
     "data": {
      "text/plain": [
       "mark                 0\n",
       "model                0\n",
       "generation_name    266\n",
       "year                 0\n",
       "mileage             18\n",
       "vol_engine           0\n",
       "fuel                 0\n",
       "city                 0\n",
       "province             0\n",
       "price               17\n",
       "dtype: int64"
      ]
     },
     "execution_count": 75,
     "metadata": {},
     "output_type": "execute_result"
    }
   ],
   "source": [
    "#Finding null values in the dataset\n",
    "df.isna().sum()"
   ]
  },
  {
   "cell_type": "markdown",
   "id": "a52d30f6",
   "metadata": {},
   "source": [
    "# Filling missing values"
   ]
  },
  {
   "cell_type": "code",
   "execution_count": 76,
   "id": "2727f291",
   "metadata": {},
   "outputs": [
    {
     "data": {
      "text/plain": [
       "10"
      ]
     },
     "execution_count": 76,
     "metadata": {},
     "output_type": "execute_result"
    }
   ],
   "source": [
    "df['generation_name'].unique().size"
   ]
  },
  {
   "cell_type": "code",
   "execution_count": 77,
   "id": "7f2910ae",
   "metadata": {},
   "outputs": [
    {
     "data": {
      "text/plain": [
       "0    gen-j-2009-2015\n",
       "dtype: object"
      ]
     },
     "execution_count": 77,
     "metadata": {},
     "output_type": "execute_result"
    }
   ],
   "source": [
    "df['generation_name'].mode()"
   ]
  },
  {
   "cell_type": "code",
   "execution_count": 78,
   "id": "8d545943",
   "metadata": {},
   "outputs": [],
   "source": [
    "#filling the null values of column generation time with mode \n",
    "df['generation_name']=df['generation_name'].fillna('gen-j-2009-2015')\n"
   ]
  },
  {
   "cell_type": "code",
   "execution_count": 79,
   "id": "64ab262f",
   "metadata": {},
   "outputs": [
    {
     "data": {
      "text/html": [
       "<div>\n",
       "<style scoped>\n",
       "    .dataframe tbody tr th:only-of-type {\n",
       "        vertical-align: middle;\n",
       "    }\n",
       "\n",
       "    .dataframe tbody tr th {\n",
       "        vertical-align: top;\n",
       "    }\n",
       "\n",
       "    .dataframe thead th {\n",
       "        text-align: right;\n",
       "    }\n",
       "</style>\n",
       "<table border=\"1\" class=\"dataframe\">\n",
       "  <thead>\n",
       "    <tr style=\"text-align: right;\">\n",
       "      <th></th>\n",
       "      <th>mileage</th>\n",
       "      <th>price</th>\n",
       "    </tr>\n",
       "  </thead>\n",
       "  <tbody>\n",
       "    <tr>\n",
       "      <th>0</th>\n",
       "      <td>139568.0</td>\n",
       "      <td>35900.0</td>\n",
       "    </tr>\n",
       "    <tr>\n",
       "      <th>1</th>\n",
       "      <td>31991.0</td>\n",
       "      <td>78501.0</td>\n",
       "    </tr>\n",
       "    <tr>\n",
       "      <th>2</th>\n",
       "      <td>278437.0</td>\n",
       "      <td>27000.0</td>\n",
       "    </tr>\n",
       "    <tr>\n",
       "      <th>3</th>\n",
       "      <td>47600.0</td>\n",
       "      <td>30800.0</td>\n",
       "    </tr>\n",
       "    <tr>\n",
       "      <th>4</th>\n",
       "      <td>103000.0</td>\n",
       "      <td>35900.0</td>\n",
       "    </tr>\n",
       "    <tr>\n",
       "      <th>...</th>\n",
       "      <td>...</td>\n",
       "      <td>...</td>\n",
       "    </tr>\n",
       "    <tr>\n",
       "      <th>3211</th>\n",
       "      <td>83282.0</td>\n",
       "      <td>48000.0</td>\n",
       "    </tr>\n",
       "    <tr>\n",
       "      <th>3212</th>\n",
       "      <td>100953.0</td>\n",
       "      <td>53900.0</td>\n",
       "    </tr>\n",
       "    <tr>\n",
       "      <th>3213</th>\n",
       "      <td>20800.0</td>\n",
       "      <td>68900.0</td>\n",
       "    </tr>\n",
       "    <tr>\n",
       "      <th>3214</th>\n",
       "      <td>6085.0</td>\n",
       "      <td>83900.0</td>\n",
       "    </tr>\n",
       "    <tr>\n",
       "      <th>3215</th>\n",
       "      <td>12750.0</td>\n",
       "      <td>66900.0</td>\n",
       "    </tr>\n",
       "  </tbody>\n",
       "</table>\n",
       "<p>3216 rows × 2 columns</p>\n",
       "</div>"
      ],
      "text/plain": [
       "       mileage    price\n",
       "0     139568.0  35900.0\n",
       "1      31991.0  78501.0\n",
       "2     278437.0  27000.0\n",
       "3      47600.0  30800.0\n",
       "4     103000.0  35900.0\n",
       "...        ...      ...\n",
       "3211   83282.0  48000.0\n",
       "3212  100953.0  53900.0\n",
       "3213   20800.0  68900.0\n",
       "3214    6085.0  83900.0\n",
       "3215   12750.0  66900.0\n",
       "\n",
       "[3216 rows x 2 columns]"
      ]
     },
     "execution_count": 79,
     "metadata": {},
     "output_type": "execute_result"
    }
   ],
   "source": [
    "freq=df.select_dtypes(include=['float','int'])\n",
    "freq"
   ]
  },
  {
   "cell_type": "code",
   "execution_count": 80,
   "id": "ab75b7ee",
   "metadata": {},
   "outputs": [
    {
     "data": {
      "image/png": "[encoded data removed]",
      "text/plain": [
       "<Figure size 864x360 with 2 Axes>"
      ]
     },
     "metadata": {
      "needs_background": "light"
     },
     "output_type": "display_data"
    }
   ],
   "source": [
    "freq.hist(figsize=(12,5))\n",
    "plt.show()"
   ]
  },
  {
   "cell_type": "code",
   "execution_count": 81,
   "id": "7510de8d",
   "metadata": {},
   "outputs": [],
   "source": [
    "#Filling mileage with mean and price with median\n",
    "df['mileage']=df['mileage'].fillna(df['mileage'].mean())\n",
    "df['price']=df['price'].fillna(df['price'].mean())"
   ]
  },
  {
   "cell_type": "code",
   "execution_count": 82,
   "id": "fe7ac5d5",
   "metadata": {},
   "outputs": [
    {
     "data": {
      "text/plain": [
       "mark               0\n",
       "model              0\n",
       "generation_name    0\n",
       "year               0\n",
       "mileage            0\n",
       "vol_engine         0\n",
       "fuel               0\n",
       "city               0\n",
       "province           0\n",
       "price              0\n",
       "dtype: int64"
      ]
     },
     "execution_count": 82,
     "metadata": {},
     "output_type": "execute_result"
    }
   ],
   "source": [
    "df.isna().sum()"
   ]
  },
  {
   "cell_type": "code",
   "execution_count": 83,
   "id": "f793262b",
   "metadata": {},
   "outputs": [
    {
     "data": {
      "text/html": [
       "<div>\n",
       "<style scoped>\n",
       "    .dataframe tbody tr th:only-of-type {\n",
       "        vertical-align: middle;\n",
       "    }\n",
       "\n",
       "    .dataframe tbody tr th {\n",
       "        vertical-align: top;\n",
       "    }\n",
       "\n",
       "    .dataframe thead th {\n",
       "        text-align: right;\n",
       "    }\n",
       "</style>\n",
       "<table border=\"1\" class=\"dataframe\">\n",
       "  <thead>\n",
       "    <tr style=\"text-align: right;\">\n",
       "      <th></th>\n",
       "      <th>year</th>\n",
       "      <th>mileage</th>\n",
       "      <th>vol_engine</th>\n",
       "      <th>price</th>\n",
       "    </tr>\n",
       "    <tr>\n",
       "      <th>model</th>\n",
       "      <th></th>\n",
       "      <th></th>\n",
       "      <th></th>\n",
       "      <th></th>\n",
       "    </tr>\n",
       "  </thead>\n",
       "  <tbody>\n",
       "    <tr>\n",
       "      <th>adam</th>\n",
       "      <td>2015.125000</td>\n",
       "      <td>73981.166667</td>\n",
       "      <td>1305.302083</td>\n",
       "      <td>35629.385417</td>\n",
       "    </tr>\n",
       "    <tr>\n",
       "      <th>agila</th>\n",
       "      <td>2007.845238</td>\n",
       "      <td>142339.880952</td>\n",
       "      <td>1125.000000</td>\n",
       "      <td>12466.166667</td>\n",
       "    </tr>\n",
       "    <tr>\n",
       "      <th>ampera</th>\n",
       "      <td>2013.100000</td>\n",
       "      <td>180200.900000</td>\n",
       "      <td>1258.200000</td>\n",
       "      <td>62070.000000</td>\n",
       "    </tr>\n",
       "    <tr>\n",
       "      <th>antara</th>\n",
       "      <td>2008.956250</td>\n",
       "      <td>188311.168750</td>\n",
       "      <td>2169.337500</td>\n",
       "      <td>28401.568750</td>\n",
       "    </tr>\n",
       "    <tr>\n",
       "      <th>astra</th>\n",
       "      <td>2010.452372</td>\n",
       "      <td>166330.250277</td>\n",
       "      <td>1562.736645</td>\n",
       "      <td>26257.515683</td>\n",
       "    </tr>\n",
       "    <tr>\n",
       "      <th>combo</th>\n",
       "      <td>2015.843750</td>\n",
       "      <td>140507.687500</td>\n",
       "      <td>1433.218750</td>\n",
       "      <td>39868.468750</td>\n",
       "    </tr>\n",
       "    <tr>\n",
       "      <th>vectra</th>\n",
       "      <td>2004.168000</td>\n",
       "      <td>231323.568000</td>\n",
       "      <td>1974.664000</td>\n",
       "      <td>10335.608000</td>\n",
       "    </tr>\n",
       "  </tbody>\n",
       "</table>\n",
       "</div>"
      ],
      "text/plain": [
       "               year        mileage   vol_engine         price\n",
       "model                                                        \n",
       "adam    2015.125000   73981.166667  1305.302083  35629.385417\n",
       "agila   2007.845238  142339.880952  1125.000000  12466.166667\n",
       "ampera  2013.100000  180200.900000  1258.200000  62070.000000\n",
       "antara  2008.956250  188311.168750  2169.337500  28401.568750\n",
       "astra   2010.452372  166330.250277  1562.736645  26257.515683\n",
       "combo   2015.843750  140507.687500  1433.218750  39868.468750\n",
       "vectra  2004.168000  231323.568000  1974.664000  10335.608000"
      ]
     },
     "execution_count": 83,
     "metadata": {},
     "output_type": "execute_result"
    }
   ],
   "source": [
    "df.groupby('model').mean()"
   ]
  },
  {
   "cell_type": "code",
   "execution_count": 84,
   "id": "6342fda5",
   "metadata": {},
   "outputs": [
    {
     "data": {
      "text/html": [
       "<div>\n",
       "<style scoped>\n",
       "    .dataframe tbody tr th:only-of-type {\n",
       "        vertical-align: middle;\n",
       "    }\n",
       "\n",
       "    .dataframe tbody tr th {\n",
       "        vertical-align: top;\n",
       "    }\n",
       "\n",
       "    .dataframe thead th {\n",
       "        text-align: right;\n",
       "    }\n",
       "</style>\n",
       "<table border=\"1\" class=\"dataframe\">\n",
       "  <thead>\n",
       "    <tr style=\"text-align: right;\">\n",
       "      <th></th>\n",
       "      <th>year</th>\n",
       "      <th>mileage</th>\n",
       "      <th>vol_engine</th>\n",
       "      <th>price</th>\n",
       "    </tr>\n",
       "    <tr>\n",
       "      <th>mark</th>\n",
       "      <th></th>\n",
       "      <th></th>\n",
       "      <th></th>\n",
       "      <th></th>\n",
       "    </tr>\n",
       "  </thead>\n",
       "  <tbody>\n",
       "    <tr>\n",
       "      <th>opel</th>\n",
       "      <td>2010.320585</td>\n",
       "      <td>166095.944028</td>\n",
       "      <td>1586.284204</td>\n",
       "      <td>26047.087215</td>\n",
       "    </tr>\n",
       "  </tbody>\n",
       "</table>\n",
       "</div>"
      ],
      "text/plain": [
       "             year        mileage   vol_engine         price\n",
       "mark                                                       \n",
       "opel  2010.320585  166095.944028  1586.284204  26047.087215"
      ]
     },
     "execution_count": 84,
     "metadata": {},
     "output_type": "execute_result"
    }
   ],
   "source": [
    "df.groupby('mark').mean()"
   ]
  },
  {
   "cell_type": "code",
   "execution_count": 85,
   "id": "19a95056",
   "metadata": {},
   "outputs": [
    {
     "data": {
      "text/plain": [
       "55"
      ]
     },
     "execution_count": 85,
     "metadata": {},
     "output_type": "execute_result"
    }
   ],
   "source": [
    "df.vol_engine.nunique()"
   ]
  },
  {
   "cell_type": "markdown",
   "id": "043e2b7c",
   "metadata": {},
   "source": [
    "# Checking Outliers"
   ]
  },
  {
   "cell_type": "code",
   "execution_count": 86,
   "id": "4add2440",
   "metadata": {},
   "outputs": [
    {
     "name": "stderr",
     "output_type": "stream",
     "text": [
      "<ipython-input-86-6b5971126d2e>:2: MatplotlibDeprecationWarning: Case-insensitive properties were deprecated in 3.3 and support will be removed two minor releases later\n",
      "  plt.title('Box plot for Mileage\\n',fontSize=16)\n"
     ]
    },
    {
     "data": {
      "text/plain": [
       "Text(0.5, 1.0, 'Box plot for Mileage\\n')"
      ]
     },
     "execution_count": 86,
     "metadata": {},
     "output_type": "execute_result"
    },
    {
     "data": {
      "image/png": "[encoded data removed]",
      "text/plain": [
       "<Figure size 432x288 with 1 Axes>"
      ]
     },
     "metadata": {
      "needs_background": "light"
     },
     "output_type": "display_data"
    }
   ],
   "source": [
    "plt.boxplot(df['mileage'])\n",
    "plt.title('Box plot for Mileage\\n',fontSize=16)"
   ]
  },
  {
   "cell_type": "code",
   "execution_count": 87,
   "id": "c9456378",
   "metadata": {},
   "outputs": [],
   "source": [
    "Q1= np.percentile(df['mileage'],25,interpolation='midpoint')\n",
    "Q2= np.percentile(df['mileage'],50,interpolation='midpoint')\n",
    "Q3= np.percentile(df['mileage'],75,interpolation='midpoint')\n",
    "IQR=Q3-Q1\n",
    "low_lim=Q1-1.5*IQR\n",
    "up_lim=Q3+1.5*IQR\n"
   ]
  },
  {
   "cell_type": "code",
   "execution_count": 106,
   "id": "8b0deffe",
   "metadata": {},
   "outputs": [],
   "source": [
    "outlier=[]\n",
    "for i in df['mileage']:\n",
    "    if i<low_lim or i>up_lim:\n",
    "        outlier.append(i)"
   ]
  },
  {
   "cell_type": "code",
   "execution_count": 107,
   "id": "477ebf64",
   "metadata": {},
   "outputs": [
    {
     "data": {
      "text/plain": [
       "[345000.0,\n",
       " 401315.0,\n",
       " 398119.0,\n",
       " 375000.0,\n",
       " 350000.0,\n",
       " 400000.0,\n",
       " 413000.0,\n",
       " 363000.0,\n",
       " 363000.0,\n",
       " 379115.0,\n",
       " 341000.0,\n",
       " 354000.0,\n",
       " 350000.0,\n",
       " 341000.0,\n",
       " 434400.0,\n",
       " 340317.0,\n",
       " 360000.0,\n",
       " 340000.0,\n",
       " 343000.0,\n",
       " 339714.0,\n",
       " 360000.0,\n",
       " 350000.0,\n",
       " 341667.0,\n",
       " 348856.0,\n",
       " 342765.0,\n",
       " 335000.0,\n",
       " 339600.0]"
      ]
     },
     "execution_count": 107,
     "metadata": {},
     "output_type": "execute_result"
    }
   ],
   "source": [
    "outlier"
   ]
  },
  {
   "cell_type": "code",
   "execution_count": 113,
   "id": "fd5982b7",
   "metadata": {},
   "outputs": [],
   "source": [
    "lis1=df['mileage']>up_lim\n",
    "index_up=df.loc[lis1].index\n",
    "lis2=df['mileage']<low_lim\n",
    "index_low=df.loc[lis2].index"
   ]
  },
  {
   "cell_type": "code",
   "execution_count": 116,
   "id": "4bef540b",
   "metadata": {},
   "outputs": [
    {
     "data": {
      "text/plain": [
       "Int64Index([  66,   69,  158,  164,  171,  182,  475,  552,  584,  654,  752,\n",
       "             774,  786,  859,  874,  915,  934, 1091, 1233, 1247, 1314, 1332,\n",
       "            1416, 1425, 1466, 1474, 2180],\n",
       "           dtype='int64')"
      ]
     },
     "execution_count": 116,
     "metadata": {},
     "output_type": "execute_result"
    }
   ],
   "source": [
    "index_up"
   ]
  },
  {
   "cell_type": "code",
   "execution_count": 118,
   "id": "d8b6b7a1",
   "metadata": {},
   "outputs": [
    {
     "data": {
      "text/plain": [
       "Int64Index([], dtype='int64')"
      ]
     },
     "execution_count": 118,
     "metadata": {},
     "output_type": "execute_result"
    }
   ],
   "source": [
    "index_low"
   ]
  },
  {
   "cell_type": "code",
   "execution_count": 120,
   "id": "88cf4c83",
   "metadata": {},
   "outputs": [],
   "source": [
    "df.drop(index_up,inplace=True)"
   ]
  },
  {
   "cell_type": "code",
   "execution_count": 121,
   "id": "3bc1d699",
   "metadata": {},
   "outputs": [
    {
     "data": {
      "text/plain": [
       "(3189, 10)"
      ]
     },
     "execution_count": 121,
     "metadata": {},
     "output_type": "execute_result"
    }
   ],
   "source": [
    "df.shape"
   ]
  },
  {
   "cell_type": "code",
   "execution_count": null,
   "id": "bb824693",
   "metadata": {},
   "outputs": [],
   "source": []
  }
 ],
 "metadata": {
  "kernelspec": {
   "display_name": "Python 3",
   "language": "python",
   "name": "python3"
  },
  "language_info": {
   "codemirror_mode": {
    "name": "ipython",
    "version": 3
   },
   "file_extension": ".py",
   "mimetype": "text/x-python",
   "name": "python",
   "nbconvert_exporter": "python",
   "pygments_lexer": "ipython3",
   "version": "3.8.8"
  }
 },
 "nbformat": 4,
 "nbformat_minor": 5
}
